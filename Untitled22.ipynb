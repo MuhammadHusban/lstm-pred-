{
  "cells": [
    {
      "cell_type": "code",
      "execution_count": 1,
      "metadata": {
        "colab": {
          "base_uri": "https://localhost:8080/"
        },
        "id": "U-qajXpB5Rz3",
        "outputId": "d4c7d24f-077c-41d0-968c-6c784363b42c"
      },
      "outputs": [
        {
          "name": "stdout",
          "output_type": "stream",
          "text": [
            "Mounted at /content/drive\n"
          ]
        }
      ],
      "source": [
        "from google.colab import drive\n",
        "drive.mount('/content/drive')"
      ]
    },
    {
      "cell_type": "code",
      "execution_count": 2,
      "metadata": {
        "id": "AbrAhfoT5WL_"
      },
      "outputs": [],
      "source": [
        "#import Dataset\n",
        "import pandas as pd\n",
        "DATA_DIR_1 = \"/content/my data.csv\"\n",
        "CPO_df = pd.read_csv (DATA_DIR_1, header = 0)"
      ]
    },
    {
      "cell_type": "code",
      "execution_count": 3,
      "metadata": {
        "id": "LF8ng1X45h_J"
      },
      "outputs": [],
      "source": [
        "#visual library\n",
        "from matplotlib import pyplot as plt\n",
        "import seaborn as sns\n",
        "from mpl_toolkits.mplot3d import Axes3D\n",
        "from scipy.stats import shapiro\n",
        "plt.style.use('ggplot')"
      ]
    },
    {
      "cell_type": "code",
      "execution_count": 4,
      "metadata": {
        "colab": {
          "base_uri": "https://localhost:8080/"
        },
        "id": "NsZZWOwu5j55",
        "outputId": "00c2541a-c6ad-433a-8fa2-3e0505cdf8d2"
      },
      "outputs": [
        {
          "name": "stdout",
          "output_type": "stream",
          "text": [
            "     Month  Johore  Kedah  Kelantan  Malacca  N. Sembilan  Pahang  Penang  \\\n",
            "0  2015-01    0.23   0.19      0.10     0.25         0.20    0.18    0.17   \n",
            "1  2015-02    0.25   0.26      0.10     0.31         0.25    0.20    0.20   \n",
            "2  2015-03    0.30   0.39      0.16     0.41         0.30    0.26    0.33   \n",
            "3  2015-04    0.35   0.42      0.22     0.46         0.34    0.30    0.39   \n",
            "4  2015-05    0.36   0.43      0.24     0.49         0.34    0.32    0.39   \n",
            "\n",
            "   Perak  Selangor  Terengganu  P. Malaysia  Sabah  Sarawak  Sabah/Sarawak  \\\n",
            "0   0.24      0.22        0.12         0.20   0.31     0.19           0.25   \n",
            "1   0.27      0.26        0.11         0.22   0.25     0.17           0.21   \n",
            "2   0.36      0.34        0.15         0.28   0.30     0.22           0.27   \n",
            "3   0.37      0.36        0.22         0.32   0.35     0.25           0.31   \n",
            "4   0.35      0.35        0.27         0.33   0.39     0.27           0.34   \n",
            "\n",
            "   MALAYSIA  \n",
            "0      0.23  \n",
            "1      0.22  \n",
            "2      0.27  \n",
            "3      0.31  \n",
            "4      0.33  \n"
          ]
        }
      ],
      "source": [
        "#Print Dataset Header\n",
        "print (CPO_df.head())"
      ]
    },
    {
      "cell_type": "code",
      "execution_count": 5,
      "metadata": {
        "colab": {
          "base_uri": "https://localhost:8080/"
        },
        "id": "zTwnr0P15mLi",
        "outputId": "82ab1cda-8547-40d9-9dc1-880666fe8c2c"
      },
      "outputs": [
        {
          "name": "stdout",
          "output_type": "stream",
          "text": [
            "<class 'pandas.core.frame.DataFrame'>\n",
            "RangeIndex: 96 entries, 0 to 95\n",
            "Data columns (total 16 columns):\n",
            " #   Column         Non-Null Count  Dtype  \n",
            "---  ------         --------------  -----  \n",
            " 0   Month          96 non-null     object \n",
            " 1   Johore         92 non-null     float64\n",
            " 2   Kedah          92 non-null     float64\n",
            " 3   Kelantan       92 non-null     float64\n",
            " 4   Malacca        92 non-null     float64\n",
            " 5   N. Sembilan    92 non-null     float64\n",
            " 6   Pahang         92 non-null     float64\n",
            " 7   Penang         92 non-null     float64\n",
            " 8   Perak          92 non-null     float64\n",
            " 9   Selangor       92 non-null     float64\n",
            " 10  Terengganu     92 non-null     float64\n",
            " 11  P. Malaysia    92 non-null     float64\n",
            " 12  Sabah          92 non-null     float64\n",
            " 13  Sarawak        92 non-null     float64\n",
            " 14  Sabah/Sarawak  92 non-null     float64\n",
            " 15  MALAYSIA       92 non-null     float64\n",
            "dtypes: float64(15), object(1)\n",
            "memory usage: 12.1+ KB\n",
            "None\n"
          ]
        }
      ],
      "source": [
        "print (CPO_df.info())"
      ]
    },
    {
      "cell_type": "code",
      "execution_count": 6,
      "metadata": {
        "colab": {
          "base_uri": "https://localhost:8080/"
        },
        "id": "L95vgAkv5oVh",
        "outputId": "0c39dee5-fe32-4834-e584-3943e8bf333b"
      },
      "outputs": [
        {
          "name": "stdout",
          "output_type": "stream",
          "text": [
            "Number of rows: ()\n",
            "\n",
            "Number of columns: ()\n",
            "\n",
            "All columns: \n",
            "     Month  Johore  Kedah  Kelantan  Malacca  N. Sembilan  Pahang  Penang  \\\n",
            "0  2015-01    0.23   0.19      0.10     0.25         0.20    0.18    0.17   \n",
            "1  2015-02    0.25   0.26      0.10     0.31         0.25    0.20    0.20   \n",
            "2  2015-03    0.30   0.39      0.16     0.41         0.30    0.26    0.33   \n",
            "3  2015-04    0.35   0.42      0.22     0.46         0.34    0.30    0.39   \n",
            "4  2015-05    0.36   0.43      0.24     0.49         0.34    0.32    0.39   \n",
            "\n",
            "   Perak  Selangor  Terengganu  P. Malaysia  Sabah  Sarawak  Sabah/Sarawak  \\\n",
            "0   0.24      0.22        0.12         0.20   0.31     0.19           0.25   \n",
            "1   0.27      0.26        0.11         0.22   0.25     0.17           0.21   \n",
            "2   0.36      0.34        0.15         0.28   0.30     0.22           0.27   \n",
            "3   0.37      0.36        0.22         0.32   0.35     0.25           0.31   \n",
            "4   0.35      0.35        0.27         0.33   0.39     0.27           0.34   \n",
            "\n",
            "   MALAYSIA  \n",
            "0      0.23  \n",
            "1      0.22  \n",
            "2      0.27  \n",
            "3      0.31  \n",
            "4      0.33  \n",
            "\n",
            "Statistic of all columns: \n",
            "          Johore      Kedah   Kelantan    Malacca  N. Sembilan     Pahang  \\\n",
            "count  92.000000  92.000000  92.000000  92.000000    92.000000  92.000000   \n",
            "mean    0.315326   0.275326   0.185978   0.330217     0.281304   0.279891   \n",
            "std     0.055637   0.064390   0.044029   0.068001     0.054757   0.055301   \n",
            "min     0.210000   0.140000   0.100000   0.170000     0.150000   0.160000   \n",
            "25%     0.277500   0.227500   0.157500   0.280000     0.240000   0.240000   \n",
            "50%     0.315000   0.270000   0.190000   0.320000     0.290000   0.280000   \n",
            "75%     0.360000   0.320000   0.220000   0.372500     0.312500   0.320000   \n",
            "max     0.440000   0.430000   0.280000   0.490000     0.390000   0.400000   \n",
            "\n",
            "          Penang      Perak   Selangor  Terengganu  P. Malaysia      Sabah  \\\n",
            "count  92.000000  92.000000  92.000000   92.000000    92.000000  92.000000   \n",
            "mean    0.266630   0.249239   0.309457    0.225978     0.289674   0.283261   \n",
            "std     0.071626   0.083261   0.044311    0.060366     0.049067   0.055709   \n",
            "min     0.110000   0.090000   0.220000    0.110000     0.190000   0.170000   \n",
            "25%     0.220000   0.187500   0.280000    0.180000     0.260000   0.240000   \n",
            "50%     0.280000   0.245000   0.320000    0.220000     0.290000   0.280000   \n",
            "75%     0.320000   0.320000   0.340000    0.270000     0.320000   0.320000   \n",
            "max     0.390000   0.430000   0.420000    0.370000     0.390000   0.450000   \n",
            "\n",
            "         Sarawak  Sabah/Sarawak   MALAYSIA  \n",
            "count  92.000000      92.000000  92.000000  \n",
            "mean    0.260217       0.277935   0.285978  \n",
            "std     0.046100       0.046917   0.046624  \n",
            "min     0.160000       0.180000   0.190000  \n",
            "25%     0.230000       0.240000   0.250000  \n",
            "50%     0.260000       0.280000   0.290000  \n",
            "75%     0.290000       0.312500   0.320000  \n",
            "max     0.360000       0.410000   0.390000  \n",
            "\n",
            "Display basic information of the columns: \n",
            "<class 'pandas.core.frame.DataFrame'>\n",
            "RangeIndex: 96 entries, 0 to 95\n",
            "Data columns (total 16 columns):\n",
            " #   Column         Non-Null Count  Dtype  \n",
            "---  ------         --------------  -----  \n",
            " 0   Month          96 non-null     object \n",
            " 1   Johore         92 non-null     float64\n",
            " 2   Kedah          92 non-null     float64\n",
            " 3   Kelantan       92 non-null     float64\n",
            " 4   Malacca        92 non-null     float64\n",
            " 5   N. Sembilan    92 non-null     float64\n",
            " 6   Pahang         92 non-null     float64\n",
            " 7   Penang         92 non-null     float64\n",
            " 8   Perak          92 non-null     float64\n",
            " 9   Selangor       92 non-null     float64\n",
            " 10  Terengganu     92 non-null     float64\n",
            " 11  P. Malaysia    92 non-null     float64\n",
            " 12  Sabah          92 non-null     float64\n",
            " 13  Sarawak        92 non-null     float64\n",
            " 14  Sabah/Sarawak  92 non-null     float64\n",
            " 15  MALAYSIA       92 non-null     float64\n",
            "dtypes: float64(15), object(1)\n",
            "memory usage: 12.1+ KB\n",
            "None\n"
          ]
        }
      ],
      "source": [
        "print(\"Number of rows: ()\".format(len(CPO_df)))\n",
        "print()\n",
        "\n",
        "print(\"Number of columns: ()\".format(len(CPO_df.columns)))\n",
        "print()\n",
        "\n",
        "print(\"All columns: \")\n",
        "print(CPO_df.head())\n",
        "print()\n",
        "\n",
        "print(\"Statistic of all columns: \")\n",
        "print(CPO_df.describe())\n",
        "print()\n",
        "\n",
        "print(\"Display basic information of the columns: \")\n",
        "print(CPO_df.info())\n"
      ]
    },
    {
      "cell_type": "code",
      "execution_count": 7,
      "metadata": {
        "colab": {
          "base_uri": "https://localhost:8080/"
        },
        "id": "wgu6r1Z85sC_",
        "outputId": "d73bac1b-939c-481f-f495-53d51d6ac43a"
      },
      "outputs": [
        {
          "name": "stdout",
          "output_type": "stream",
          "text": [
            "Month            0\n",
            "Johore           4\n",
            "Kedah            4\n",
            "Kelantan         4\n",
            "Malacca          4\n",
            "N. Sembilan      4\n",
            "Pahang           4\n",
            "Penang           4\n",
            "Perak            4\n",
            "Selangor         4\n",
            "Terengganu       4\n",
            "P. Malaysia      4\n",
            "Sabah            4\n",
            "Sarawak          4\n",
            "Sabah/Sarawak    4\n",
            "MALAYSIA         4\n",
            "dtype: int64\n"
          ]
        }
      ],
      "source": [
        "print (CPO_df.isnull().sum())"
      ]
    },
    {
      "cell_type": "code",
      "execution_count": 8,
      "metadata": {
        "colab": {
          "base_uri": "https://localhost:8080/"
        },
        "id": "OVyXdmxr5uSc",
        "outputId": "0d980edc-fa22-4a5a-b534-ce939ea429c7"
      },
      "outputs": [
        {
          "name": "stdout",
          "output_type": "stream",
          "text": [
            "Before remove missing values: [96 rows x 16 col]\n",
            "After remove missing values: [92 rows x 16 col]\n",
            "Month            0\n",
            "Johore           0\n",
            "Kedah            0\n",
            "Kelantan         0\n",
            "Malacca          0\n",
            "N. Sembilan      0\n",
            "Pahang           0\n",
            "Penang           0\n",
            "Perak            0\n",
            "Selangor         0\n",
            "Terengganu       0\n",
            "P. Malaysia      0\n",
            "Sabah            0\n",
            "Sarawak          0\n",
            "Sabah/Sarawak    0\n",
            "MALAYSIA         0\n",
            "dtype: int64\n"
          ]
        }
      ],
      "source": [
        "print(\"Before remove missing values: [{} rows x {} col]\".format(CPO_df.shape[0],CPO_df.shape[1] ))\n",
        "\n",
        "CPO_df = (CPO_df.dropna())\n",
        "print(\"After remove missing values: [{} rows x {} col]\".format(CPO_df.shape[0],CPO_df.shape[1] ))\n",
        "print (CPO_df.isnull().sum())"
      ]
    },
    {
      "cell_type": "code",
      "execution_count": 9,
      "metadata": {
        "colab": {
          "base_uri": "https://localhost:8080/"
        },
        "id": "sEwbMure518m",
        "outputId": "0c20601a-1f5a-4bc3-c961-97e01149fd74"
      },
      "outputs": [
        {
          "name": "stdout",
          "output_type": "stream",
          "text": [
            "     Month  Johore  Kedah  Kelantan  Malacca  N. Sembilan  Pahang  Penang  \\\n",
            "0  2015-01    0.23   0.19      0.10     0.25         0.20    0.18    0.17   \n",
            "1  2015-02    0.25   0.26      0.10     0.31         0.25    0.20    0.20   \n",
            "2  2015-03    0.30   0.39      0.16     0.41         0.30    0.26    0.33   \n",
            "3  2015-04    0.35   0.42      0.22     0.46         0.34    0.30    0.39   \n",
            "4  2015-05    0.36   0.43      0.24     0.49         0.34    0.32    0.39   \n",
            "\n",
            "   Perak  Selangor  Terengganu  P. Malaysia  Sabah  Sarawak  Sabah/Sarawak  \\\n",
            "0   0.24      0.22        0.12         0.20   0.31     0.19           0.25   \n",
            "1   0.27      0.26        0.11         0.22   0.25     0.17           0.21   \n",
            "2   0.36      0.34        0.15         0.28   0.30     0.22           0.27   \n",
            "3   0.37      0.36        0.22         0.32   0.35     0.25           0.31   \n",
            "4   0.35      0.35        0.27         0.33   0.39     0.27           0.34   \n",
            "\n",
            "   MALAYSIA  \n",
            "0      0.23  \n",
            "1      0.22  \n",
            "2      0.27  \n",
            "3      0.31  \n",
            "4      0.33  \n"
          ]
        }
      ],
      "source": [
        "print(CPO_df.head())"
      ]
    },
    {
      "cell_type": "code",
      "execution_count": 10,
      "metadata": {
        "colab": {
          "base_uri": "https://localhost:8080/"
        },
        "id": "4xFahRsV6AeU",
        "outputId": "92ceaef4-dd48-4759-fdf9-e7bbf1a2c21c"
      },
      "outputs": [
        {
          "name": "stdout",
          "output_type": "stream",
          "text": [
            "      Month  P. Malaysia  Sabah/Sarawak\n",
            "0   2015-01         0.20           0.25\n",
            "1   2015-02         0.22           0.21\n",
            "2   2015-03         0.28           0.27\n",
            "3   2015-04         0.32           0.31\n",
            "4   2015-05         0.33           0.34\n",
            "..      ...          ...            ...\n",
            "87  2022-04         0.25           0.22\n",
            "88  2022-05         0.26           0.22\n",
            "89  2022-06         0.27           0.23\n",
            "90  2022-07         0.28           0.23\n",
            "91  2022-08         0.30           0.27\n",
            "\n",
            "[92 rows x 3 columns]\n"
          ]
        }
      ],
      "source": [
        "#Normalize for 2017 P.Malaysia Col and Sbh/Srwk\n",
        "#Create subset from dataframe\n",
        "\n",
        "CPO_df_sub = CPO_df.iloc[:, [0, 11, 14]]\n",
        "print (CPO_df_sub)"
      ]
    },
    {
      "cell_type": "code",
      "execution_count": 11,
      "metadata": {
        "colab": {
          "base_uri": "https://localhost:8080/",
          "height": 206
        },
        "id": "00xo3r1X6CqM",
        "outputId": "ac07e0a2-f246-4215-8118-8267e447077c"
      },
      "outputs": [
        {
          "data": {
            "text/html": [
              "\n",
              "  <div id=\"df-8a631b54-dcc2-4949-9186-73d9c923d9c2\">\n",
              "    <div class=\"colab-df-container\">\n",
              "      <div>\n",
              "<style scoped>\n",
              "    .dataframe tbody tr th:only-of-type {\n",
              "        vertical-align: middle;\n",
              "    }\n",
              "\n",
              "    .dataframe tbody tr th {\n",
              "        vertical-align: top;\n",
              "    }\n",
              "\n",
              "    .dataframe thead th {\n",
              "        text-align: right;\n",
              "    }\n",
              "</style>\n",
              "<table border=\"1\" class=\"dataframe\">\n",
              "  <thead>\n",
              "    <tr style=\"text-align: right;\">\n",
              "      <th></th>\n",
              "      <th>Month</th>\n",
              "      <th>P. Malaysia</th>\n",
              "      <th>Sabah/Sarawak</th>\n",
              "    </tr>\n",
              "  </thead>\n",
              "  <tbody>\n",
              "    <tr>\n",
              "      <th>0</th>\n",
              "      <td>2015-01</td>\n",
              "      <td>0.20</td>\n",
              "      <td>0.25</td>\n",
              "    </tr>\n",
              "    <tr>\n",
              "      <th>1</th>\n",
              "      <td>2015-02</td>\n",
              "      <td>0.22</td>\n",
              "      <td>0.21</td>\n",
              "    </tr>\n",
              "    <tr>\n",
              "      <th>2</th>\n",
              "      <td>2015-03</td>\n",
              "      <td>0.28</td>\n",
              "      <td>0.27</td>\n",
              "    </tr>\n",
              "    <tr>\n",
              "      <th>3</th>\n",
              "      <td>2015-04</td>\n",
              "      <td>0.32</td>\n",
              "      <td>0.31</td>\n",
              "    </tr>\n",
              "    <tr>\n",
              "      <th>4</th>\n",
              "      <td>2015-05</td>\n",
              "      <td>0.33</td>\n",
              "      <td>0.34</td>\n",
              "    </tr>\n",
              "  </tbody>\n",
              "</table>\n",
              "</div>\n",
              "      <button class=\"colab-df-convert\" onclick=\"convertToInteractive('df-8a631b54-dcc2-4949-9186-73d9c923d9c2')\"\n",
              "              title=\"Convert this dataframe to an interactive table.\"\n",
              "              style=\"display:none;\">\n",
              "        \n",
              "  <svg xmlns=\"http://www.w3.org/2000/svg\" height=\"24px\"viewBox=\"0 0 24 24\"\n",
              "       width=\"24px\">\n",
              "    <path d=\"M0 0h24v24H0V0z\" fill=\"none\"/>\n",
              "    <path d=\"M18.56 5.44l.94 2.06.94-2.06 2.06-.94-2.06-.94-.94-2.06-.94 2.06-2.06.94zm-11 1L8.5 8.5l.94-2.06 2.06-.94-2.06-.94L8.5 2.5l-.94 2.06-2.06.94zm10 10l.94 2.06.94-2.06 2.06-.94-2.06-.94-.94-2.06-.94 2.06-2.06.94z\"/><path d=\"M17.41 7.96l-1.37-1.37c-.4-.4-.92-.59-1.43-.59-.52 0-1.04.2-1.43.59L10.3 9.45l-7.72 7.72c-.78.78-.78 2.05 0 2.83L4 21.41c.39.39.9.59 1.41.59.51 0 1.02-.2 1.41-.59l7.78-7.78 2.81-2.81c.8-.78.8-2.07 0-2.86zM5.41 20L4 18.59l7.72-7.72 1.47 1.35L5.41 20z\"/>\n",
              "  </svg>\n",
              "      </button>\n",
              "      \n",
              "  <style>\n",
              "    .colab-df-container {\n",
              "      display:flex;\n",
              "      flex-wrap:wrap;\n",
              "      gap: 12px;\n",
              "    }\n",
              "\n",
              "    .colab-df-convert {\n",
              "      background-color: #E8F0FE;\n",
              "      border: none;\n",
              "      border-radius: 50%;\n",
              "      cursor: pointer;\n",
              "      display: none;\n",
              "      fill: #1967D2;\n",
              "      height: 32px;\n",
              "      padding: 0 0 0 0;\n",
              "      width: 32px;\n",
              "    }\n",
              "\n",
              "    .colab-df-convert:hover {\n",
              "      background-color: #E2EBFA;\n",
              "      box-shadow: 0px 1px 2px rgba(60, 64, 67, 0.3), 0px 1px 3px 1px rgba(60, 64, 67, 0.15);\n",
              "      fill: #174EA6;\n",
              "    }\n",
              "\n",
              "    [theme=dark] .colab-df-convert {\n",
              "      background-color: #3B4455;\n",
              "      fill: #D2E3FC;\n",
              "    }\n",
              "\n",
              "    [theme=dark] .colab-df-convert:hover {\n",
              "      background-color: #434B5C;\n",
              "      box-shadow: 0px 1px 3px 1px rgba(0, 0, 0, 0.15);\n",
              "      filter: drop-shadow(0px 1px 2px rgba(0, 0, 0, 0.3));\n",
              "      fill: #FFFFFF;\n",
              "    }\n",
              "  </style>\n",
              "\n",
              "      <script>\n",
              "        const buttonEl =\n",
              "          document.querySelector('#df-8a631b54-dcc2-4949-9186-73d9c923d9c2 button.colab-df-convert');\n",
              "        buttonEl.style.display =\n",
              "          google.colab.kernel.accessAllowed ? 'block' : 'none';\n",
              "\n",
              "        async function convertToInteractive(key) {\n",
              "          const element = document.querySelector('#df-8a631b54-dcc2-4949-9186-73d9c923d9c2');\n",
              "          const dataTable =\n",
              "            await google.colab.kernel.invokeFunction('convertToInteractive',\n",
              "                                                     [key], {});\n",
              "          if (!dataTable) return;\n",
              "\n",
              "          const docLinkHtml = 'Like what you see? Visit the ' +\n",
              "            '<a target=\"_blank\" href=https://colab.research.google.com/notebooks/data_table.ipynb>data table notebook</a>'\n",
              "            + ' to learn more about interactive tables.';\n",
              "          element.innerHTML = '';\n",
              "          dataTable['output_type'] = 'display_data';\n",
              "          await google.colab.output.renderOutput(dataTable, element);\n",
              "          const docLink = document.createElement('div');\n",
              "          docLink.innerHTML = docLinkHtml;\n",
              "          element.appendChild(docLink);\n",
              "        }\n",
              "      </script>\n",
              "    </div>\n",
              "  </div>\n",
              "  "
            ],
            "text/plain": [
              "     Month  P. Malaysia  Sabah/Sarawak\n",
              "0  2015-01         0.20           0.25\n",
              "1  2015-02         0.22           0.21\n",
              "2  2015-03         0.28           0.27\n",
              "3  2015-04         0.32           0.31\n",
              "4  2015-05         0.33           0.34"
            ]
          },
          "execution_count": 11,
          "metadata": {},
          "output_type": "execute_result"
        }
      ],
      "source": [
        "CPO_df_sub.head()"
      ]
    },
    {
      "cell_type": "code",
      "execution_count": 12,
      "metadata": {
        "colab": {
          "base_uri": "https://localhost:8080/",
          "height": 391
        },
        "id": "KAfHtr6E6E4W",
        "outputId": "267bdad7-f4d0-4c95-d215-53eff338267c"
      },
      "outputs": [
        {
          "data": {
            "text/plain": [
              "<matplotlib.axes._subplots.AxesSubplot at 0x7fa41e28fa10>"
            ]
          },
          "execution_count": 12,
          "metadata": {},
          "output_type": "execute_result"
        },
        {
          "data": {
            "image/png": "[encoded data removed]",
            "text/plain": [
              "<Figure size 864x432 with 1 Axes>"
            ]
          },
          "metadata": {},
          "output_type": "display_data"
        }
      ],
      "source": [
        "CPO_df_sub.plot (figsize=(12,6))"
      ]
    },
    {
      "cell_type": "code",
      "execution_count": 13,
      "metadata": {
        "id": "471uc87P6Zcr"
      },
      "outputs": [],
      "source": [
        "from statsmodels.tsa.seasonal import seasonal_decompose\n",
        "from matplotlib.pyplot import figure"
      ]
    },
    {
      "cell_type": "code",
      "execution_count": 14,
      "metadata": {
        "colab": {
          "base_uri": "https://localhost:8080/"
        },
        "id": "v3pxJU9B6cB4",
        "outputId": "09bce680-85b0-4cd2-fa20-0ca802641ee5"
      },
      "outputs": [
        {
          "name": "stderr",
          "output_type": "stream",
          "text": [
            "/usr/local/lib/python3.7/dist-packages/ipykernel_launcher.py:1: SettingWithCopyWarning: \n",
            "A value is trying to be set on a copy of a slice from a DataFrame.\n",
            "Try using .loc[row_indexer,col_indexer] = value instead\n",
            "\n",
            "See the caveats in the documentation: https://pandas.pydata.org/pandas-docs/stable/user_guide/indexing.html#returning-a-view-versus-a-copy\n",
            "  \"\"\"Entry point for launching an IPython kernel.\n"
          ]
        }
      ],
      "source": [
        "CPO_df_sub ['Month'] = pd.to_datetime(CPO_df_sub['Month'])\n",
        "CPO_df_sub = CPO_df_sub.set_index('Month')"
      ]
    },
    {
      "cell_type": "code",
      "execution_count": 15,
      "metadata": {
        "colab": {
          "base_uri": "https://localhost:8080/",
          "height": 657
        },
        "id": "UadDHVmw6d8z",
        "outputId": "99083d5b-99a6-4b3e-801e-504b43ef0aae"
      },
      "outputs": [
        {
          "data": {
            "image/png": "[encoded data removed]",
            "text/plain": [
              "<Figure size 936x648 with 4 Axes>"
            ]
          },
          "metadata": {},
          "output_type": "display_data"
        }
      ],
      "source": [
        "results = seasonal_decompose(CPO_df_sub['P. Malaysia'])\n",
        "fig = results.plot()\n",
        "fig.set_size_inches((13, 9))\n",
        "fig.tight_layout()\n",
        "plt.show()"
      ]
    },
    {
      "cell_type": "code",
      "execution_count": 16,
      "metadata": {
        "colab": {
          "base_uri": "https://localhost:8080/"
        },
        "id": "KaYxMKXU6ggb",
        "outputId": "4189838f-8d53-4ed6-d27c-de819ea2632a"
      },
      "outputs": [
        {
          "data": {
            "text/plain": [
              "92"
            ]
          },
          "execution_count": 16,
          "metadata": {},
          "output_type": "execute_result"
        }
      ],
      "source": [
        "len(CPO_df_sub)"
      ]
    },
    {
      "cell_type": "code",
      "execution_count": 17,
      "metadata": {
        "colab": {
          "base_uri": "https://localhost:8080/",
          "height": 238
        },
        "id": "_xR4_on068qT",
        "outputId": "1c89bdbe-6574-4304-af16-35ff9374d133"
      },
      "outputs": [
        {
          "data": {
            "text/html": [
              "\n",
              "  <div id=\"df-987774b1-33c8-4501-872f-9fb6f3344545\">\n",
              "    <div class=\"colab-df-container\">\n",
              "      <div>\n",
              "<style scoped>\n",
              "    .dataframe tbody tr th:only-of-type {\n",
              "        vertical-align: middle;\n",
              "    }\n",
              "\n",
              "    .dataframe tbody tr th {\n",
              "        vertical-align: top;\n",
              "    }\n",
              "\n",
              "    .dataframe thead th {\n",
              "        text-align: right;\n",
              "    }\n",
              "</style>\n",
              "<table border=\"1\" class=\"dataframe\">\n",
              "  <thead>\n",
              "    <tr style=\"text-align: right;\">\n",
              "      <th></th>\n",
              "      <th>P. Malaysia</th>\n",
              "      <th>Sabah/Sarawak</th>\n",
              "    </tr>\n",
              "    <tr>\n",
              "      <th>Month</th>\n",
              "      <th></th>\n",
              "      <th></th>\n",
              "    </tr>\n",
              "  </thead>\n",
              "  <tbody>\n",
              "    <tr>\n",
              "      <th>2015-01-01</th>\n",
              "      <td>0.20</td>\n",
              "      <td>0.25</td>\n",
              "    </tr>\n",
              "    <tr>\n",
              "      <th>2015-02-01</th>\n",
              "      <td>0.22</td>\n",
              "      <td>0.21</td>\n",
              "    </tr>\n",
              "    <tr>\n",
              "      <th>2015-03-01</th>\n",
              "      <td>0.28</td>\n",
              "      <td>0.27</td>\n",
              "    </tr>\n",
              "    <tr>\n",
              "      <th>2015-04-01</th>\n",
              "      <td>0.32</td>\n",
              "      <td>0.31</td>\n",
              "    </tr>\n",
              "    <tr>\n",
              "      <th>2015-05-01</th>\n",
              "      <td>0.33</td>\n",
              "      <td>0.34</td>\n",
              "    </tr>\n",
              "  </tbody>\n",
              "</table>\n",
              "</div>\n",
              "      <button class=\"colab-df-convert\" onclick=\"convertToInteractive('df-987774b1-33c8-4501-872f-9fb6f3344545')\"\n",
              "              title=\"Convert this dataframe to an interactive table.\"\n",
              "              style=\"display:none;\">\n",
              "        \n",
              "  <svg xmlns=\"http://www.w3.org/2000/svg\" height=\"24px\"viewBox=\"0 0 24 24\"\n",
              "       width=\"24px\">\n",
              "    <path d=\"M0 0h24v24H0V0z\" fill=\"none\"/>\n",
              "    <path d=\"M18.56 5.44l.94 2.06.94-2.06 2.06-.94-2.06-.94-.94-2.06-.94 2.06-2.06.94zm-11 1L8.5 8.5l.94-2.06 2.06-.94-2.06-.94L8.5 2.5l-.94 2.06-2.06.94zm10 10l.94 2.06.94-2.06 2.06-.94-2.06-.94-.94-2.06-.94 2.06-2.06.94z\"/><path d=\"M17.41 7.96l-1.37-1.37c-.4-.4-.92-.59-1.43-.59-.52 0-1.04.2-1.43.59L10.3 9.45l-7.72 7.72c-.78.78-.78 2.05 0 2.83L4 21.41c.39.39.9.59 1.41.59.51 0 1.02-.2 1.41-.59l7.78-7.78 2.81-2.81c.8-.78.8-2.07 0-2.86zM5.41 20L4 18.59l7.72-7.72 1.47 1.35L5.41 20z\"/>\n",
              "  </svg>\n",
              "      </button>\n",
              "      \n",
              "  <style>\n",
              "    .colab-df-container {\n",
              "      display:flex;\n",
              "      flex-wrap:wrap;\n",
              "      gap: 12px;\n",
              "    }\n",
              "\n",
              "    .colab-df-convert {\n",
              "      background-color: #E8F0FE;\n",
              "      border: none;\n",
              "      border-radius: 50%;\n",
              "      cursor: pointer;\n",
              "      display: none;\n",
              "      fill: #1967D2;\n",
              "      height: 32px;\n",
              "      padding: 0 0 0 0;\n",
              "      width: 32px;\n",
              "    }\n",
              "\n",
              "    .colab-df-convert:hover {\n",
              "      background-color: #E2EBFA;\n",
              "      box-shadow: 0px 1px 2px rgba(60, 64, 67, 0.3), 0px 1px 3px 1px rgba(60, 64, 67, 0.15);\n",
              "      fill: #174EA6;\n",
              "    }\n",
              "\n",
              "    [theme=dark] .colab-df-convert {\n",
              "      background-color: #3B4455;\n",
              "      fill: #D2E3FC;\n",
              "    }\n",
              "\n",
              "    [theme=dark] .colab-df-convert:hover {\n",
              "      background-color: #434B5C;\n",
              "      box-shadow: 0px 1px 3px 1px rgba(0, 0, 0, 0.15);\n",
              "      filter: drop-shadow(0px 1px 2px rgba(0, 0, 0, 0.3));\n",
              "      fill: #FFFFFF;\n",
              "    }\n",
              "  </style>\n",
              "\n",
              "      <script>\n",
              "        const buttonEl =\n",
              "          document.querySelector('#df-987774b1-33c8-4501-872f-9fb6f3344545 button.colab-df-convert');\n",
              "        buttonEl.style.display =\n",
              "          google.colab.kernel.accessAllowed ? 'block' : 'none';\n",
              "\n",
              "        async function convertToInteractive(key) {\n",
              "          const element = document.querySelector('#df-987774b1-33c8-4501-872f-9fb6f3344545');\n",
              "          const dataTable =\n",
              "            await google.colab.kernel.invokeFunction('convertToInteractive',\n",
              "                                                     [key], {});\n",
              "          if (!dataTable) return;\n",
              "\n",
              "          const docLinkHtml = 'Like what you see? Visit the ' +\n",
              "            '<a target=\"_blank\" href=https://colab.research.google.com/notebooks/data_table.ipynb>data table notebook</a>'\n",
              "            + ' to learn more about interactive tables.';\n",
              "          element.innerHTML = '';\n",
              "          dataTable['output_type'] = 'display_data';\n",
              "          await google.colab.output.renderOutput(dataTable, element);\n",
              "          const docLink = document.createElement('div');\n",
              "          docLink.innerHTML = docLinkHtml;\n",
              "          element.appendChild(docLink);\n",
              "        }\n",
              "      </script>\n",
              "    </div>\n",
              "  </div>\n",
              "  "
            ],
            "text/plain": [
              "            P. Malaysia  Sabah/Sarawak\n",
              "Month                                 \n",
              "2015-01-01         0.20           0.25\n",
              "2015-02-01         0.22           0.21\n",
              "2015-03-01         0.28           0.27\n",
              "2015-04-01         0.32           0.31\n",
              "2015-05-01         0.33           0.34"
            ]
          },
          "execution_count": 17,
          "metadata": {},
          "output_type": "execute_result"
        }
      ],
      "source": [
        "CPO_df_sub.head()"
      ]
    },
    {
      "cell_type": "code",
      "execution_count": 18,
      "metadata": {
        "id": "DsPuzVI763Js"
      },
      "outputs": [],
      "source": [
        "train = CPO_df_sub.iloc[:72,[1]]\n",
        "test = CPO_df_sub.iloc[20:,[1]]"
      ]
    },
    {
      "cell_type": "code",
      "execution_count": 19,
      "metadata": {
        "colab": {
          "base_uri": "https://localhost:8080/"
        },
        "id": "yJBnmTEWPFLy",
        "outputId": "078eac3d-674f-4dbe-e38c-71df1f9ee3a4"
      },
      "outputs": [
        {
          "data": {
            "text/plain": [
              "72"
            ]
          },
          "execution_count": 19,
          "metadata": {},
          "output_type": "execute_result"
        }
      ],
      "source": [
        "len(train)"
      ]
    },
    {
      "cell_type": "code",
      "execution_count": 20,
      "metadata": {
        "colab": {
          "base_uri": "https://localhost:8080/"
        },
        "id": "F_sRWwGZPH7-",
        "outputId": "05ece217-e637-4be2-858a-c307d1e66758"
      },
      "outputs": [
        {
          "data": {
            "text/plain": [
              "72"
            ]
          },
          "execution_count": 20,
          "metadata": {},
          "output_type": "execute_result"
        }
      ],
      "source": [
        "len(test)"
      ]
    },
    {
      "cell_type": "code",
      "execution_count": 21,
      "metadata": {
        "colab": {
          "base_uri": "https://localhost:8080/"
        },
        "id": "AhId0wb57JWk",
        "outputId": "53b73ad5-4e9b-4f1f-82c1-33e9ed864252"
      },
      "outputs": [
        {
          "data": {
            "text/plain": [
              "(            P. Malaysia  Sabah/Sarawak\n",
              " Month                                 \n",
              " 2015-01-01         0.20           0.25\n",
              " 2015-02-01         0.22           0.21\n",
              " 2015-03-01         0.28           0.27\n",
              " 2015-04-01         0.32           0.31\n",
              " 2015-05-01         0.33           0.34,             P. Malaysia  Sabah/Sarawak\n",
              " Month                                 \n",
              " 2022-04-01         0.25           0.22\n",
              " 2022-05-01         0.26           0.22\n",
              " 2022-06-01         0.27           0.23\n",
              " 2022-07-01         0.28           0.23\n",
              " 2022-08-01         0.30           0.27)"
            ]
          },
          "execution_count": 21,
          "metadata": {},
          "output_type": "execute_result"
        }
      ],
      "source": [
        "from sklearn.preprocessing import MinMaxScaler\n",
        "import numpy as np\n",
        "#change from float64 to int64\n",
        "scaler = MinMaxScaler()\n",
        "\n",
        "CPO_df_sub.head(), CPO_df_sub.tail()"
      ]
    },
    {
      "cell_type": "code",
      "execution_count": 22,
      "metadata": {
        "id": "6S9iisg57MPx"
      },
      "outputs": [],
      "source": [
        "scaler.fit(train)\n",
        "scaled_train = scaler.transform(train)\n",
        "scaled_test = scaler.transform(test)"
      ]
    },
    {
      "cell_type": "code",
      "execution_count": 23,
      "metadata": {
        "id": "Ufhr-CSG7Omv"
      },
      "outputs": [],
      "source": [
        "scaled_train = np.array(scaled_train)\n",
        "scaled_test = np.array(scaled_test)"
      ]
    },
    {
      "cell_type": "code",
      "execution_count": 24,
      "metadata": {
        "colab": {
          "base_uri": "https://localhost:8080/"
        },
        "id": "o8D_vPy9O0EB",
        "outputId": "afa69496-872e-4b98-aa68-da7d869d26a1"
      },
      "outputs": [
        {
          "data": {
            "text/plain": [
              "72"
            ]
          },
          "execution_count": 24,
          "metadata": {},
          "output_type": "execute_result"
        }
      ],
      "source": [
        "len(scaled_train)"
      ]
    },
    {
      "cell_type": "code",
      "execution_count": 25,
      "metadata": {
        "colab": {
          "base_uri": "https://localhost:8080/"
        },
        "id": "ZAKOKDP8O84k",
        "outputId": "98fbf105-d551-4cbc-d0f2-f2ef64811352"
      },
      "outputs": [
        {
          "data": {
            "text/plain": [
              "72"
            ]
          },
          "execution_count": 25,
          "metadata": {},
          "output_type": "execute_result"
        }
      ],
      "source": [
        "len(scaled_test)"
      ]
    },
    {
      "cell_type": "code",
      "execution_count": 25,
      "metadata": {
        "id": "833risIxUjTk"
      },
      "outputs": [],
      "source": []
    },
    {
      "cell_type": "code",
      "execution_count": 26,
      "metadata": {
        "colab": {
          "base_uri": "https://localhost:8080/"
        },
        "id": "D9RDjfmKEyXp",
        "outputId": "90ecec62-d630-4d85-e724-cd070ebce075"
      },
      "outputs": [
        {
          "data": {
            "text/plain": [
              "array([[0.27272727],\n",
              "       [0.09090909],\n",
              "       [0.36363636],\n",
              "       [0.54545455],\n",
              "       [0.68181818],\n",
              "       [0.59090909],\n",
              "       [0.63636364],\n",
              "       [0.86363636],\n",
              "       [0.86363636],\n",
              "       [1.        ]])"
            ]
          },
          "execution_count": 26,
          "metadata": {},
          "output_type": "execute_result"
        }
      ],
      "source": [
        "scaled_train [:10]"
      ]
    },
    {
      "cell_type": "code",
      "execution_count": 27,
      "metadata": {
        "id": "A2zsg3GdE0Kj"
      },
      "outputs": [],
      "source": [
        "from keras.preprocessing.sequence import TimeseriesGenerator"
      ]
    },
    {
      "cell_type": "code",
      "execution_count": 28,
      "metadata": {
        "id": "JkvMyn73E36r"
      },
      "outputs": [],
      "source": [
        "#DEFINE GENERATOR\n",
        "n_input = 12\n",
        "n_features = 1\n",
        "generator = TimeseriesGenerator(scaled_train, scaled_train, length=n_input, batch_size=1)"
      ]
    },
    {
      "cell_type": "code",
      "execution_count": 29,
      "metadata": {
        "id": "X0qPJAveH7mv"
      },
      "outputs": [],
      "source": [
        "X_train,y_train = generator[0]\n"
      ]
    },
    {
      "cell_type": "code",
      "execution_count": 30,
      "metadata": {
        "colab": {
          "base_uri": "https://localhost:8080/"
        },
        "id": "T3B9nrgwH-nI",
        "outputId": "52d18a47-9e85-45b6-d579-270bf7fe076f"
      },
      "outputs": [
        {
          "data": {
            "text/plain": [
              "(1, 12, 1)"
            ]
          },
          "execution_count": 30,
          "metadata": {},
          "output_type": "execute_result"
        }
      ],
      "source": [
        "X_train.shape"
      ]
    },
    {
      "cell_type": "code",
      "execution_count": 31,
      "metadata": {
        "colab": {
          "base_uri": "https://localhost:8080/"
        },
        "id": "8tZcMtGIU2eb",
        "outputId": "d2b72a69-7813-4716-afd8-0f2a4aab21ea"
      },
      "outputs": [
        {
          "data": {
            "text/plain": [
              "(1, 1)"
            ]
          },
          "execution_count": 31,
          "metadata": {},
          "output_type": "execute_result"
        }
      ],
      "source": [
        "y_train.shape"
      ]
    },
    {
      "cell_type": "code",
      "execution_count": 32,
      "metadata": {
        "id": "_QIMGlQSIBvo"
      },
      "outputs": [],
      "source": [
        "n_input = 12\n",
        "test_generator = TimeseriesGenerator(scaled_test,scaled_test, length=n_input, batch_size=1)"
      ]
    },
    {
      "cell_type": "code",
      "execution_count": 33,
      "metadata": {
        "id": "DZHTiGUUZ2Hi"
      },
      "outputs": [],
      "source": [
        "X_test,y_test = test_generator[0]\n"
      ]
    },
    {
      "cell_type": "code",
      "execution_count": 34,
      "metadata": {
        "id": "0RGtiQJjIJvW"
      },
      "outputs": [],
      "source": [
        "import tensorflow as tf\n",
        "from keras.models import Sequential\n",
        "from keras.layers import Dense,Bidirectional,Dropout\n",
        "from keras.layers import LSTM\n",
        "import numpy as np"
      ]
    },
    {
      "cell_type": "code",
      "execution_count": 35,
      "metadata": {
        "id": "mh7LQVIbIQQy"
      },
      "outputs": [],
      "source": [
        "model = Sequential()\n",
        "model.add(Bidirectional(LSTM(units=250, return_sequences=True, input_shape = (n_input, n_features))))\n",
        "model.add(Dropout(0.2))\n",
        "model.add(Bidirectional(LSTM(units= 250 , return_sequences=True)))\n",
        "model.add(Dropout(0.2))\n",
        "model.add(Bidirectional(LSTM(units= 250 , return_sequences=True)))\n",
        "model.add(Dropout(0.2))\n",
        "model.add(Bidirectional(LSTM(units= 250 , return_sequences=True)))\n",
        "model.add(Dropout(0.2))\n",
        "model.add(Bidirectional(LSTM(units= 250)))\n",
        "model.add(Dropout(0.2))\n",
        "model.add(Dense(1,activation='sigmoid'))"
      ]
    },
    {
      "cell_type": "code",
      "execution_count": null,
      "metadata": {
        "id": "bEFUsTcPpYlt"
      },
      "outputs": [],
      "source": [
        "model.compile(optimizer=tf.keras.optimizers.Adam(learning_rate=0.005), loss='mse')"
      ]
    },
    {
      "cell_type": "code",
      "execution_count": 39,
      "metadata": {
        "colab": {
          "base_uri": "https://localhost:8080/"
        },
        "id": "rvBB0AodJ0O8",
        "outputId": "e83bb4b4-b11f-42ec-842e-fb9bf0af0178"
      },
      "outputs": [
        {
          "name": "stdout",
          "output_type": "stream",
          "text": [
            "Epoch 1/50\n",
            "60/60 [==============================] - 23s 79ms/step - loss: 0.0358 - acc: 0.0167 - val_loss: 0.0138 - val_acc: 0.0000e+00\n",
            "Epoch 2/50\n",
            "60/60 [==============================] - 2s 25ms/step - loss: 0.0336 - acc: 0.0167 - val_loss: 0.0333 - val_acc: 0.0000e+00\n",
            "Epoch 3/50\n",
            "60/60 [==============================] - 2s 25ms/step - loss: 0.0348 - acc: 0.0167 - val_loss: 0.0128 - val_acc: 0.0000e+00\n",
            "Epoch 4/50\n",
            "60/60 [==============================] - 2s 25ms/step - loss: 0.0228 - acc: 0.0167 - val_loss: 0.0112 - val_acc: 0.0000e+00\n",
            "Epoch 5/50\n",
            "60/60 [==============================] - 2s 27ms/step - loss: 0.0238 - acc: 0.0167 - val_loss: 0.0114 - val_acc: 0.0000e+00\n",
            "Epoch 6/50\n",
            "60/60 [==============================] - 2s 25ms/step - loss: 0.0272 - acc: 0.0167 - val_loss: 0.0015 - val_acc: 0.0000e+00\n",
            "Epoch 7/50\n",
            "60/60 [==============================] - 1s 24ms/step - loss: 0.0166 - acc: 0.0167 - val_loss: 0.0133 - val_acc: 0.0000e+00\n",
            "Epoch 8/50\n",
            "60/60 [==============================] - 1s 25ms/step - loss: 0.0164 - acc: 0.0167 - val_loss: 3.5632e-04 - val_acc: 0.0000e+00\n",
            "Epoch 9/50\n",
            "60/60 [==============================] - 2s 25ms/step - loss: 0.0159 - acc: 0.0167 - val_loss: 0.0122 - val_acc: 0.0000e+00\n",
            "Epoch 10/50\n",
            "60/60 [==============================] - 2s 26ms/step - loss: 0.0150 - acc: 0.0167 - val_loss: 4.1895e-08 - val_acc: 0.0000e+00\n",
            "Epoch 11/50\n",
            "60/60 [==============================] - 2s 25ms/step - loss: 0.0130 - acc: 0.0167 - val_loss: 0.0011 - val_acc: 0.0000e+00\n",
            "Epoch 12/50\n",
            "60/60 [==============================] - 1s 24ms/step - loss: 0.0147 - acc: 0.0167 - val_loss: 8.7399e-04 - val_acc: 0.0000e+00\n",
            "Epoch 13/50\n",
            "60/60 [==============================] - 1s 25ms/step - loss: 0.0120 - acc: 0.0167 - val_loss: 0.0040 - val_acc: 0.0000e+00\n",
            "Epoch 14/50\n",
            "60/60 [==============================] - 1s 24ms/step - loss: 0.0124 - acc: 0.0167 - val_loss: 0.0064 - val_acc: 0.0000e+00\n",
            "Epoch 15/50\n",
            "60/60 [==============================] - 1s 25ms/step - loss: 0.0175 - acc: 0.0167 - val_loss: 2.6684e-04 - val_acc: 0.0000e+00\n",
            "Epoch 16/50\n",
            "60/60 [==============================] - 1s 25ms/step - loss: 0.0156 - acc: 0.0167 - val_loss: 4.6738e-04 - val_acc: 0.0000e+00\n",
            "Epoch 17/50\n",
            "60/60 [==============================] - 1s 24ms/step - loss: 0.0131 - acc: 0.0167 - val_loss: 0.0030 - val_acc: 0.0000e+00\n",
            "Epoch 18/50\n",
            "60/60 [==============================] - 2s 25ms/step - loss: 0.0116 - acc: 0.0167 - val_loss: 7.0676e-04 - val_acc: 0.0000e+00\n",
            "Epoch 19/50\n",
            "60/60 [==============================] - 1s 25ms/step - loss: 0.0108 - acc: 0.0167 - val_loss: 1.6644e-04 - val_acc: 0.0000e+00\n",
            "Epoch 20/50\n",
            "60/60 [==============================] - 2s 25ms/step - loss: 0.0100 - acc: 0.0167 - val_loss: 1.7814e-04 - val_acc: 0.0000e+00\n",
            "Epoch 21/50\n",
            "60/60 [==============================] - 1s 25ms/step - loss: 0.0117 - acc: 0.0167 - val_loss: 3.4252e-08 - val_acc: 0.0000e+00\n",
            "Epoch 22/50\n",
            "60/60 [==============================] - 1s 25ms/step - loss: 0.0110 - acc: 0.0167 - val_loss: 0.0019 - val_acc: 0.0000e+00\n",
            "Epoch 23/50\n",
            "60/60 [==============================] - 2s 29ms/step - loss: 0.0131 - acc: 0.0167 - val_loss: 3.7593e-05 - val_acc: 0.0000e+00\n",
            "Epoch 24/50\n",
            "60/60 [==============================] - 1s 25ms/step - loss: 0.0108 - acc: 0.0167 - val_loss: 2.9630e-04 - val_acc: 0.0000e+00\n",
            "Epoch 25/50\n",
            "60/60 [==============================] - 2s 27ms/step - loss: 0.0094 - acc: 0.0167 - val_loss: 0.0014 - val_acc: 0.0000e+00\n",
            "Epoch 26/50\n",
            "60/60 [==============================] - 2s 25ms/step - loss: 0.0084 - acc: 0.0167 - val_loss: 7.3030e-04 - val_acc: 0.0000e+00\n",
            "Epoch 27/50\n",
            "60/60 [==============================] - 2s 26ms/step - loss: 0.0090 - acc: 0.0167 - val_loss: 3.0460e-04 - val_acc: 0.0000e+00\n",
            "Epoch 28/50\n",
            "60/60 [==============================] - 1s 25ms/step - loss: 0.0119 - acc: 0.0167 - val_loss: 0.0019 - val_acc: 0.0000e+00\n",
            "Epoch 29/50\n",
            "60/60 [==============================] - 2s 25ms/step - loss: 0.0114 - acc: 0.0167 - val_loss: 5.5883e-04 - val_acc: 0.0000e+00\n",
            "Epoch 30/50\n",
            "60/60 [==============================] - 2s 25ms/step - loss: 0.0072 - acc: 0.0167 - val_loss: 7.7091e-04 - val_acc: 0.0000e+00\n",
            "Epoch 31/50\n",
            "60/60 [==============================] - 2s 26ms/step - loss: 0.0083 - acc: 0.0167 - val_loss: 6.5793e-04 - val_acc: 0.0000e+00\n",
            "Epoch 32/50\n",
            "60/60 [==============================] - 1s 25ms/step - loss: 0.0081 - acc: 0.0167 - val_loss: 5.8795e-05 - val_acc: 0.0000e+00\n",
            "Epoch 33/50\n",
            "60/60 [==============================] - 2s 25ms/step - loss: 0.0073 - acc: 0.0167 - val_loss: 0.0094 - val_acc: 0.0000e+00\n",
            "Epoch 34/50\n",
            "60/60 [==============================] - 1s 25ms/step - loss: 0.0096 - acc: 0.0167 - val_loss: 0.0126 - val_acc: 0.0000e+00\n",
            "Epoch 35/50\n",
            "60/60 [==============================] - 1s 24ms/step - loss: 0.0087 - acc: 0.0167 - val_loss: 0.0016 - val_acc: 0.0000e+00\n",
            "Epoch 36/50\n",
            "60/60 [==============================] - 1s 24ms/step - loss: 0.0081 - acc: 0.0167 - val_loss: 3.5346e-04 - val_acc: 0.0000e+00\n",
            "Epoch 37/50\n",
            "60/60 [==============================] - 1s 25ms/step - loss: 0.0076 - acc: 0.0167 - val_loss: 5.4796e-05 - val_acc: 0.0000e+00\n",
            "Epoch 38/50\n",
            "60/60 [==============================] - 1s 24ms/step - loss: 0.0074 - acc: 0.0167 - val_loss: 2.7254e-04 - val_acc: 0.0000e+00\n",
            "Epoch 39/50\n",
            "60/60 [==============================] - 1s 25ms/step - loss: 0.0083 - acc: 0.0167 - val_loss: 7.7505e-04 - val_acc: 0.0000e+00\n",
            "Epoch 40/50\n",
            "60/60 [==============================] - 1s 24ms/step - loss: 0.0081 - acc: 0.0167 - val_loss: 0.0012 - val_acc: 0.0000e+00\n",
            "Epoch 41/50\n",
            "60/60 [==============================] - 1s 24ms/step - loss: 0.0084 - acc: 0.0167 - val_loss: 7.9501e-05 - val_acc: 0.0000e+00\n",
            "Epoch 42/50\n",
            "60/60 [==============================] - 1s 24ms/step - loss: 0.0074 - acc: 0.0167 - val_loss: 0.0038 - val_acc: 0.0000e+00\n",
            "Epoch 43/50\n",
            "60/60 [==============================] - 1s 25ms/step - loss: 0.0079 - acc: 0.0167 - val_loss: 7.0065e-06 - val_acc: 0.0000e+00\n",
            "Epoch 44/50\n",
            "60/60 [==============================] - 1s 25ms/step - loss: 0.0065 - acc: 0.0167 - val_loss: 1.9445e-05 - val_acc: 0.0000e+00\n",
            "Epoch 45/50\n",
            "60/60 [==============================] - 2s 27ms/step - loss: 0.0077 - acc: 0.0167 - val_loss: 6.3928e-04 - val_acc: 0.0000e+00\n",
            "Epoch 46/50\n",
            "60/60 [==============================] - 2s 26ms/step - loss: 0.0068 - acc: 0.0167 - val_loss: 3.9824e-05 - val_acc: 0.0000e+00\n",
            "Epoch 47/50\n",
            "60/60 [==============================] - 1s 25ms/step - loss: 0.0067 - acc: 0.0167 - val_loss: 0.0027 - val_acc: 0.0000e+00\n",
            "Epoch 48/50\n",
            "60/60 [==============================] - 2s 25ms/step - loss: 0.0084 - acc: 0.0167 - val_loss: 7.8148e-05 - val_acc: 0.0000e+00\n",
            "Epoch 49/50\n",
            "60/60 [==============================] - 1s 24ms/step - loss: 0.0070 - acc: 0.0167 - val_loss: 7.0441e-06 - val_acc: 0.0000e+00\n",
            "Epoch 50/50\n",
            "60/60 [==============================] - 1s 25ms/step - loss: 0.0074 - acc: 0.0167 - val_loss: 8.8358e-04 - val_acc: 0.0000e+00\n"
          ]
        },
        {
          "data": {
            "text/plain": [
              "<keras.callbacks.History at 0x7fa345c8dd50>"
            ]
          },
          "execution_count": 39,
          "metadata": {},
          "output_type": "execute_result"
        }
      ],
      "source": [
        "model.fit(generator,epochs=50,batch_size=128 )"
      ]
    },
    {
      "cell_type": "code",
      "execution_count": 40,
      "metadata": {
        "colab": {
          "base_uri": "https://localhost:8080/",
          "height": 282
        },
        "id": "EA2S3RPHKxIl",
        "outputId": "bb19fc34-ba16-42a0-a9d6-4327464136fc"
      },
      "outputs": [
        {
          "data": {
            "text/plain": [
              "[<matplotlib.lines.Line2D at 0x7fa417a97e50>]"
            ]
          },
          "execution_count": 40,
          "metadata": {},
          "output_type": "execute_result"
        },
        {
          "data": {
            "image/png": "[encoded data removed]",
            "text/plain": [
              "<Figure size 432x288 with 1 Axes>"
            ]
          },
          "metadata": {},
          "output_type": "display_data"
        }
      ],
      "source": [
        "loss_per_epoch = model.history.history['loss']\n",
        "plt.plot(range(len(loss_per_epoch)),loss_per_epoch)"
      ]
    },
    {
      "cell_type": "code",
      "execution_count": 42,
      "metadata": {
        "colab": {
          "base_uri": "https://localhost:8080/"
        },
        "id": "sENQ9SFAK4QH",
        "outputId": "d5decc69-958c-4aee-f8f5-dbd0627aed68"
      },
      "outputs": [
        {
          "data": {
            "text/plain": [
              "1"
            ]
          },
          "execution_count": 42,
          "metadata": {},
          "output_type": "execute_result"
        }
      ],
      "source": [
        "n_features"
      ]
    },
    {
      "cell_type": "code",
      "execution_count": 43,
      "metadata": {
        "colab": {
          "base_uri": "https://localhost:8080/"
        },
        "id": "HOsT0Z20K6Vo",
        "outputId": "313dd4cf-a3eb-4625-805c-dd7c8fc36b46"
      },
      "outputs": [
        {
          "data": {
            "text/plain": [
              "12"
            ]
          },
          "execution_count": 43,
          "metadata": {},
          "output_type": "execute_result"
        }
      ],
      "source": [
        "n_input"
      ]
    },
    {
      "cell_type": "code",
      "execution_count": 44,
      "metadata": {
        "id": "ieE3Lrh9K8Xz"
      },
      "outputs": [],
      "source": [
        "last_train_batch = scaled_train[-12:]"
      ]
    },
    {
      "cell_type": "code",
      "execution_count": 45,
      "metadata": {
        "id": "cln8D9t2K-Fq"
      },
      "outputs": [],
      "source": [
        "last_train_batch = last_train_batch.reshape((1, n_input, n_features))"
      ]
    },
    {
      "cell_type": "code",
      "execution_count": 46,
      "metadata": {
        "colab": {
          "base_uri": "https://localhost:8080/"
        },
        "id": "L9jBeZCAXmMt",
        "outputId": "a69949fe-54aa-4df6-ef08-6b7aa2e7a6a4"
      },
      "outputs": [
        {
          "name": "stdout",
          "output_type": "stream",
          "text": [
            "1/1 [==============================] - 3s 3s/step\n"
          ]
        },
        {
          "data": {
            "text/plain": [
              "array([[0.21377705]], dtype=float32)"
            ]
          },
          "execution_count": 46,
          "metadata": {},
          "output_type": "execute_result"
        }
      ],
      "source": [
        "model.predict(last_train_batch)"
      ]
    },
    {
      "cell_type": "code",
      "execution_count": 47,
      "metadata": {
        "colab": {
          "base_uri": "https://localhost:8080/"
        },
        "id": "72wHiAk8c39R",
        "outputId": "4610c8d4-55a7-4167-9b50-fe9a770d99a1"
      },
      "outputs": [
        {
          "data": {
            "text/plain": [
              "array([0.63636364])"
            ]
          },
          "execution_count": 47,
          "metadata": {},
          "output_type": "execute_result"
        }
      ],
      "source": [
        "scaled_test[0]"
      ]
    },
    {
      "cell_type": "code",
      "execution_count": 48,
      "metadata": {
        "colab": {
          "base_uri": "https://localhost:8080/"
        },
        "id": "v4Os2cugc8O5",
        "outputId": "404377ee-35a2-4568-a5b4-4217e34ca517"
      },
      "outputs": [
        {
          "name": "stdout",
          "output_type": "stream",
          "text": [
            "1/1 [==============================] - 0s 22ms/step\n",
            "1/1 [==============================] - 0s 22ms/step\n",
            "1/1 [==============================] - 0s 23ms/step\n",
            "1/1 [==============================] - 0s 23ms/step\n",
            "1/1 [==============================] - 0s 24ms/step\n",
            "1/1 [==============================] - 0s 23ms/step\n",
            "1/1 [==============================] - 0s 27ms/step\n",
            "1/1 [==============================] - 0s 22ms/step\n",
            "1/1 [==============================] - 0s 23ms/step\n",
            "1/1 [==============================] - 0s 24ms/step\n",
            "1/1 [==============================] - 0s 25ms/step\n",
            "1/1 [==============================] - 0s 23ms/step\n",
            "1/1 [==============================] - 0s 24ms/step\n",
            "1/1 [==============================] - 0s 23ms/step\n",
            "1/1 [==============================] - 0s 21ms/step\n",
            "1/1 [==============================] - 0s 21ms/step\n",
            "1/1 [==============================] - 0s 23ms/step\n",
            "1/1 [==============================] - 0s 23ms/step\n",
            "1/1 [==============================] - 0s 23ms/step\n",
            "1/1 [==============================] - 0s 22ms/step\n",
            "1/1 [==============================] - 0s 25ms/step\n",
            "1/1 [==============================] - 0s 25ms/step\n",
            "1/1 [==============================] - 0s 24ms/step\n",
            "1/1 [==============================] - 0s 24ms/step\n",
            "1/1 [==============================] - 0s 23ms/step\n",
            "1/1 [==============================] - 0s 28ms/step\n",
            "1/1 [==============================] - 0s 23ms/step\n",
            "1/1 [==============================] - 0s 25ms/step\n",
            "1/1 [==============================] - 0s 26ms/step\n",
            "1/1 [==============================] - 0s 22ms/step\n",
            "1/1 [==============================] - 0s 23ms/step\n",
            "1/1 [==============================] - 0s 28ms/step\n",
            "1/1 [==============================] - 0s 23ms/step\n",
            "1/1 [==============================] - 0s 24ms/step\n",
            "1/1 [==============================] - 0s 23ms/step\n",
            "1/1 [==============================] - 0s 24ms/step\n",
            "1/1 [==============================] - 0s 23ms/step\n",
            "1/1 [==============================] - 0s 21ms/step\n",
            "1/1 [==============================] - 0s 23ms/step\n",
            "1/1 [==============================] - 0s 23ms/step\n",
            "1/1 [==============================] - 0s 22ms/step\n",
            "1/1 [==============================] - 0s 24ms/step\n",
            "1/1 [==============================] - 0s 29ms/step\n",
            "1/1 [==============================] - 0s 22ms/step\n",
            "1/1 [==============================] - 0s 30ms/step\n",
            "1/1 [==============================] - 0s 21ms/step\n",
            "1/1 [==============================] - 0s 23ms/step\n",
            "1/1 [==============================] - 0s 23ms/step\n",
            "1/1 [==============================] - 0s 24ms/step\n",
            "1/1 [==============================] - 0s 22ms/step\n",
            "1/1 [==============================] - 0s 25ms/step\n",
            "1/1 [==============================] - 0s 22ms/step\n",
            "1/1 [==============================] - 0s 22ms/step\n",
            "1/1 [==============================] - 0s 21ms/step\n",
            "1/1 [==============================] - 0s 25ms/step\n",
            "1/1 [==============================] - 0s 22ms/step\n",
            "1/1 [==============================] - 0s 22ms/step\n",
            "1/1 [==============================] - 0s 24ms/step\n",
            "1/1 [==============================] - 0s 26ms/step\n",
            "1/1 [==============================] - 0s 25ms/step\n",
            "1/1 [==============================] - 0s 25ms/step\n",
            "1/1 [==============================] - 0s 23ms/step\n",
            "1/1 [==============================] - 0s 26ms/step\n",
            "1/1 [==============================] - 0s 28ms/step\n",
            "1/1 [==============================] - 0s 25ms/step\n",
            "1/1 [==============================] - 0s 24ms/step\n",
            "1/1 [==============================] - 0s 25ms/step\n",
            "1/1 [==============================] - 0s 27ms/step\n",
            "1/1 [==============================] - 0s 26ms/step\n",
            "1/1 [==============================] - 0s 27ms/step\n",
            "1/1 [==============================] - 0s 23ms/step\n",
            "1/1 [==============================] - 0s 24ms/step\n"
          ]
        }
      ],
      "source": [
        "test_predictions = []\n",
        "\n",
        "first_eval_batch = scaled_train[-n_input:]\n",
        "current_batch = first_eval_batch.reshape((1, n_input, n_features))\n",
        "\n",
        "for i in range(len(test)):\n",
        "  \n",
        "  # get the prediction value for the first batch\n",
        "  current_pred = model.predict(current_batch)[0]\n",
        "\n",
        "  # append the prediction into the array\n",
        "  test_predictions.append(current_pred)\n",
        "\n",
        "  #use the prediction to update the batch and remove the first value\n",
        "  current_batch = np.append(current_batch[:,1:,:],[[current_pred]],axis=1)\n",
        "  \n",
        "  #current_batch = test_predictions.append(current_pred)"
      ]
    },
    {
      "cell_type": "code",
      "execution_count": 49,
      "metadata": {
        "colab": {
          "base_uri": "https://localhost:8080/"
        },
        "id": "oWGpKTBbdBE5",
        "outputId": "d5658f96-d8fa-411d-8b68-89d7c106e823"
      },
      "outputs": [
        {
          "data": {
            "text/plain": [
              "[array([0.21377705], dtype=float32),\n",
              " array([0.2706678], dtype=float32),\n",
              " array([0.3405289], dtype=float32),\n",
              " array([0.38278332], dtype=float32),\n",
              " array([0.42616162], dtype=float32),\n",
              " array([0.52403855], dtype=float32),\n",
              " array([0.63098925], dtype=float32),\n",
              " array([0.65448517], dtype=float32),\n",
              " array([0.6180693], dtype=float32),\n",
              " array([0.5732759], dtype=float32),\n",
              " array([0.5006108], dtype=float32),\n",
              " array([0.34440312], dtype=float32),\n",
              " array([0.2546536], dtype=float32),\n",
              " array([0.24292527], dtype=float32),\n",
              " array([0.28342906], dtype=float32),\n",
              " array([0.35011095], dtype=float32),\n",
              " array([0.44485512], dtype=float32),\n",
              " array([0.57252353], dtype=float32),\n",
              " array([0.6297311], dtype=float32),\n",
              " array([0.6111764], dtype=float32),\n",
              " array([0.5697148], dtype=float32),\n",
              " array([0.5059373], dtype=float32),\n",
              " array([0.38419878], dtype=float32),\n",
              " array([0.28694484], dtype=float32),\n",
              " array([0.255791], dtype=float32),\n",
              " array([0.27704975], dtype=float32),\n",
              " array([0.3296585], dtype=float32),\n",
              " array([0.41081843], dtype=float32),\n",
              " array([0.54340476], dtype=float32),\n",
              " array([0.62702465], dtype=float32),\n",
              " array([0.619562], dtype=float32),\n",
              " array([0.57991534], dtype=float32),\n",
              " array([0.5243794], dtype=float32),\n",
              " array([0.4148758], dtype=float32),\n",
              " array([0.30588797], dtype=float32),\n",
              " array([0.2600537], dtype=float32),\n",
              " array([0.27010536], dtype=float32),\n",
              " array([0.3161106], dtype=float32),\n",
              " array([0.38827443], dtype=float32),\n",
              " array([0.51441354], dtype=float32),\n",
              " array([0.61773825], dtype=float32),\n",
              " array([0.6253504], dtype=float32),\n",
              " array([0.5895188], dtype=float32),\n",
              " array([0.53891593], dtype=float32),\n",
              " array([0.44405934], dtype=float32),\n",
              " array([0.32566777], dtype=float32),\n",
              " array([0.2653883], dtype=float32),\n",
              " array([0.26422593], dtype=float32),\n",
              " array([0.3037958], dtype=float32),\n",
              " array([0.3691309], dtype=float32),\n",
              " array([0.4835131], dtype=float32),\n",
              " array([0.6029342], dtype=float32),\n",
              " array([0.62965894], dtype=float32),\n",
              " array([0.5991144], dtype=float32),\n",
              " array([0.55224526], dtype=float32),\n",
              " array([0.47271088], dtype=float32),\n",
              " array([0.34863237], dtype=float32),\n",
              " array([0.2731006], dtype=float32),\n",
              " array([0.25970235], dtype=float32),\n",
              " array([0.29204643], dtype=float32),\n",
              " array([0.3515218], dtype=float32),\n",
              " array([0.4512331], dtype=float32),\n",
              " array([0.5820668], dtype=float32),\n",
              " array([0.6317904], dtype=float32),\n",
              " array([0.6083947], dtype=float32),\n",
              " array([0.56419414], dtype=float32),\n",
              " array([0.49713328], dtype=float32),\n",
              " array([0.3742841], dtype=float32),\n",
              " array([0.28414762], dtype=float32),\n",
              " array([0.25791177], dtype=float32),\n",
              " array([0.28191414], dtype=float32),\n",
              " array([0.33592093], dtype=float32)]"
            ]
          },
          "execution_count": 49,
          "metadata": {},
          "output_type": "execute_result"
        }
      ],
      "source": [
        "test_predictions"
      ]
    },
    {
      "cell_type": "code",
      "execution_count": 50,
      "metadata": {
        "id": "M96DJ-zidAyz"
      },
      "outputs": [],
      "source": [
        "true_predictions = scaler.inverse_transform(test_predictions)"
      ]
    },
    {
      "cell_type": "code",
      "execution_count": 51,
      "metadata": {
        "id": "9-oyPs22dIur"
      },
      "outputs": [],
      "source": [
        "test['Predictions'] = true_predictions"
      ]
    },
    {
      "cell_type": "code",
      "execution_count": 52,
      "metadata": {
        "colab": {
          "base_uri": "https://localhost:8080/",
          "height": 408
        },
        "id": "AtEhPjkrdM_8",
        "outputId": "45e6ce3e-dfe5-47d1-ebdb-87a28383140c"
      },
      "outputs": [
        {
          "data": {
            "text/plain": [
              "<matplotlib.axes._subplots.AxesSubplot at 0x7fa357e454d0>"
            ]
          },
          "execution_count": 52,
          "metadata": {},
          "output_type": "execute_result"
        },
        {
          "data": {
            "image/png": "[encoded data removed]",
            "text/plain": [
              "<Figure size 864x432 with 1 Axes>"
            ]
          },
          "metadata": {},
          "output_type": "display_data"
        }
      ],
      "source": [
        "test.plot(figsize=(12,6))"
      ]
    },
    {
      "cell_type": "code",
      "execution_count": 67,
      "metadata": {
        "colab": {
          "base_uri": "https://localhost:8080/"
        },
        "id": "TNFWcBOMmEgx",
        "outputId": "c5a88920-868b-4221-81d8-c57cd575a250"
      },
      "outputs": [
        {
          "name": "stdout",
          "output_type": "stream",
          "text": [
            "0.06359361126471362\n"
          ]
        }
      ],
      "source": [
        "from sklearn.metrics import mean_squared_error\n",
        "from math import sqrt\n",
        "rmse=sqrt(mean_squared_error(test['Sabah/Sarawak'], test['Predictions']))\n",
        "print(rmse)"
      ]
    },
    {
      "cell_type": "code",
      "execution_count": 69,
      "metadata": {
        "colab": {
          "base_uri": "https://localhost:8080/"
        },
        "id": "8uExbSLkmM2A",
        "outputId": "6893d342-d2cf-4e02-dbce-07e20607b8cc"
      },
      "outputs": [
        {
          "name": "stdout",
          "output_type": "stream",
          "text": [
            "<class 'pandas.core.frame.DataFrame'>\n",
            "DatetimeIndex: 92 entries, 2015-01-01 to 2022-08-01\n",
            "Data columns (total 2 columns):\n",
            " #   Column         Non-Null Count  Dtype  \n",
            "---  ------         --------------  -----  \n",
            " 0   P. Malaysia    92 non-null     float64\n",
            " 1   Sabah/Sarawak  92 non-null     float64\n",
            "dtypes: float64(2)\n",
            "memory usage: 2.2 KB\n",
            "None\n"
          ]
        }
      ],
      "source": [
        "print(CPO_df_sub.info())"
      ]
    },
    {
      "cell_type": "code",
      "execution_count": 70,
      "metadata": {
        "colab": {
          "base_uri": "https://localhost:8080/"
        },
        "id": "oe6_5g2YmSD0",
        "outputId": "fceabf7a-cdad-412e-a5a7-da40f2093ed9"
      },
      "outputs": [
        {
          "name": "stdout",
          "output_type": "stream",
          "text": [
            "                Null     type\n",
            "P. Malaysia    False  float64\n",
            "Sabah/Sarawak  False  float64\n"
          ]
        }
      ],
      "source": [
        "null_ = CPO_df_sub.isna().any()\n",
        "dtypes = CPO_df_sub.dtypes\n",
        "info = pd.concat ([null_,dtypes], axis = 1, keys = ['Null', 'type'])\n",
        "print(info) # This is different way of viewing data"
      ]
    },
    {
      "cell_type": "code",
      "execution_count": 72,
      "metadata": {
        "colab": {
          "base_uri": "https://localhost:8080/"
        },
        "id": "brCSr0NnmUdG",
        "outputId": "97eb039d-026c-4a9c-ee8d-a243391f8911"
      },
      "outputs": [
        {
          "name": "stdout",
          "output_type": "stream",
          "text": [
            "   P. Malaysia  Sabah/Sarawak\n",
            "0         0.05       0.304348\n",
            "1         0.15       0.130435\n",
            "2         0.45       0.391304\n",
            "3         0.65       0.565217\n",
            "4         0.70       0.695652\n"
          ]
        }
      ],
      "source": [
        "minmax_scale = MinMaxScaler().fit_transform (CPO_df_sub)\n",
        "scaled_frame = pd.DataFrame (minmax_scale, columns = CPO_df_sub.columns)\n",
        "print (scaled_frame.head())"
      ]
    },
    {
      "cell_type": "code",
      "execution_count": 82,
      "metadata": {
        "colab": {
          "base_uri": "https://localhost:8080/"
        },
        "id": "w78wfJEzmnx1",
        "outputId": "9f7d5674-67cb-4ea7-f7bc-81c0ffc78b59"
      },
      "outputs": [
        {
          "name": "stdout",
          "output_type": "stream",
          "text": [
            "            P. Malaysia\n",
            "Month                  \n",
            "2015-01-01         0.20\n",
            "2015-02-01         0.22\n",
            "2015-03-01         0.28\n",
            "2015-04-01         0.32\n",
            "2015-05-01         0.33\n",
            "...                 ...\n",
            "2022-04-01         0.25\n",
            "2022-05-01         0.26\n",
            "2022-06-01         0.27\n",
            "2022-07-01         0.28\n",
            "2022-08-01         0.30\n",
            "\n",
            "[92 rows x 1 columns]\n",
            "            Sabah/Sarawak\n",
            "Month                    \n",
            "2015-01-01           0.25\n",
            "2015-02-01           0.21\n",
            "2015-03-01           0.27\n",
            "2015-04-01           0.31\n",
            "2015-05-01           0.34\n",
            "...                   ...\n",
            "2022-04-01           0.22\n",
            "2022-05-01           0.22\n",
            "2022-06-01           0.23\n",
            "2022-07-01           0.23\n",
            "2022-08-01           0.27\n",
            "\n",
            "[92 rows x 1 columns]\n",
            "    P. Malaysia\n",
            "0          0.05\n",
            "1          0.15\n",
            "2          0.45\n",
            "3          0.65\n",
            "4          0.70\n",
            "..          ...\n",
            "87         0.30\n",
            "88         0.35\n",
            "89         0.40\n",
            "90         0.45\n",
            "91         0.55\n",
            "\n",
            "[92 rows x 1 columns]\n",
            "    Sabah/Sarawak\n",
            "0        0.304348\n",
            "1        0.130435\n",
            "2        0.391304\n",
            "3        0.565217\n",
            "4        0.695652\n",
            "..            ...\n",
            "87       0.173913\n",
            "88       0.173913\n",
            "89       0.217391\n",
            "90       0.217391\n",
            "91       0.391304\n",
            "\n",
            "[92 rows x 1 columns]\n"
          ]
        }
      ],
      "source": [
        "x_axis_p = CPO_df_sub.iloc[:,[0]]\n",
        "x_axis_s = CPO_df_sub.iloc[:,[1]]\n",
        "y_axis_P = scaled_frame.iloc[:,[0]]\n",
        "y_axis_S = scaled_frame.iloc[:,[1]]\n",
        "print (x_axis_p)\n",
        "print (x_axis_s)\n",
        "print (y_axis_P)\n",
        "print (y_axis_S)"
      ]
    },
    {
      "cell_type": "code",
      "execution_count": 83,
      "metadata": {
        "colab": {
          "base_uri": "https://localhost:8080/",
          "height": 654
        },
        "id": "OXjX9eOCmfFd",
        "outputId": "dcdd504d-5fde-46cf-9d16-f46733db3c97"
      },
      "outputs": [
        {
          "data": {
            "image/png": "[encoded data removed]",
            "text/plain": [
              "<Figure size 1120x800 with 1 Axes>"
            ]
          },
          "metadata": {},
          "output_type": "display_data"
        }
      ],
      "source": [
        "plt.figure(figsize=(14,10), dpi=80)\n",
        "plt.plot(x_axis_p, \n",
        "         y_axis_P,\n",
        "         color='tomato',\n",
        "         label='Peninsular')\n",
        "plt.plot(x_axis_s, \n",
        "         y_axis_S,\n",
        "         color='dodgerblue',\n",
        "         label='East Malaysia')\n",
        "\n",
        "plt.show()"
      ]
    },
    {
      "cell_type": "code",
      "execution_count": 84,
      "metadata": {
        "colab": {
          "base_uri": "https://localhost:8080/",
          "height": 299
        },
        "id": "qeN2sPB4mk0R",
        "outputId": "29d24542-c333-4882-9b14-94b6b5afd75a"
      },
      "outputs": [
        {
          "data": {
            "image/png": "[encoded data removed]",
            "text/plain": [
              "<Figure size 432x288 with 1 Axes>"
            ]
          },
          "metadata": {},
          "output_type": "display_data"
        },
        {
          "data": {
            "text/plain": [
              "<Figure size 1120x800 with 0 Axes>"
            ]
          },
          "metadata": {},
          "output_type": "display_data"
        }
      ],
      "source": [
        "from statsmodels.graphics import tsaplots\n",
        "\n",
        "fig = tsaplots.plot_acf(y_axis_P, lags=91)\n",
        "plt.figure(figsize=(14,10), dpi=80)\n",
        "plt.show()"
      ]
    },
    {
      "cell_type": "code",
      "execution_count": 85,
      "metadata": {
        "colab": {
          "base_uri": "https://localhost:8080/"
        },
        "id": "PNtN2cZWnb0W",
        "outputId": "a72aaa3e-d442-411b-c835-83cc2c4dd5c2"
      },
      "outputs": [
        {
          "name": "stdout",
          "output_type": "stream",
          "text": [
            "There are 21 levels in the P.Malaysia column\n",
            "There are 2 columns in df_dummies\n"
          ]
        }
      ],
      "source": [
        "levels = len (pd.value_counts(CPO_df_sub['P. Malaysia']))\n",
        "print ('There are {} levels in the P.Malaysia column'.format (levels))\n",
        "\n",
        "df_dummies = pd.get_dummies(CPO_df_sub)\n",
        "print ('There are {} columns in df_dummies'.format (df_dummies.shape[1]))"
      ]
    },
    {
      "cell_type": "code",
      "execution_count": 88,
      "metadata": {
        "id": "RCWbNs_Ynhx5"
      },
      "outputs": [],
      "source": [
        "class G:\n",
        "  TIME, SERIES = (x_axis_p, y_axis_P)\n",
        "  SPLIT_TIME = 68\n",
        "  WINDOW_SIZE = 12\n",
        "  BATCH_SIZE = 12\n",
        "  SHUFFLE_BUFFER_SIZE = 23"
      ]
    },
    {
      "cell_type": "code",
      "execution_count": 91,
      "metadata": {
        "id": "32eepSvSodv5"
      },
      "outputs": [],
      "source": [
        "def train_val_split(time, series, time_step=G.SPLIT_TIME):\n",
        "    time_train = time[:time_step]\n",
        "    series_train = series[:time_step]\n",
        "    time_valid = time[time_step:]\n",
        "    series_valid = series[time_step:]\n",
        "    return time_train, series_train, time_valid, series_valid"
      ]
    },
    {
      "cell_type": "code",
      "execution_count": null,
      "metadata": {
        "id": "jmgmdLTRoERI"
      },
      "outputs": [],
      "source": []
    }
  ],
  "metadata": {
    "accelerator": "GPU",
    "colab": {
      "provenance": []
    },
    "gpuClass": "standard",
    "kernelspec": {
      "display_name": "Python 3",
      "name": "python3"
    },
    "language_info": {
      "name": "python"
    }
  },
  "nbformat": 4,
  "nbformat_minor": 0
}
